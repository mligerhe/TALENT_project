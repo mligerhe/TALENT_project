{
 "cells": [
  {
   "cell_type": "code",
   "execution_count": null,
   "metadata": {
    "vscode": {
     "languageId": "r"
    }
   },
   "outputs": [],
   "source": [
    "library(dplyr)\n",
    "library(magrittr)\n",
    "library(groupdata2)\n",
    "library(mRMRe)\n",
    "library(randomForest)\n",
    "library(pROC)\n",
    "library(verification)\n",
    "library(cutpointr)\n",
    "library(e1071)\n",
    "library(corrplot)"
   ]
  },
  {
   "cell_type": "code",
   "execution_count": null,
   "metadata": {
    "vscode": {
     "languageId": "r"
    }
   },
   "outputs": [],
   "source": [
    "Final_db = read.csv('/nfs/rnas/mligero/Github/TALENT_project/data/Talent_Radiomics_finaldb.csv', stringsAsFactors = TRUE)\n",
    "Final_db$Patient = ifelse(Final_db$Patient<1000, as.character(paste(0, Final_db$Patient, sep = '')), as.character(Final_db$Patient)) # Convert Pat_ID to character (not numerical)\n",
    "#report liver tumor burden\n",
    "paste('Liver Burden:',median(Final_db$total_vol), '[',min(Final_db$total_vol), '-',max(Final_db$total_vol),']')\n",
    "\n",
    "num_var= names(Final_db)[grep('original', colnames(Final_db))]\n",
    "num_var= c(num_var,'total_vol')\n",
    "#scale data and save mean and sd info\n",
    "sel_vars= c(num_var,'Clinical_benefit')\n",
    "s = scale(Final_db[num_var])\n",
    "scale_info = attributes(s)\n",
    "Final_db[num_var] = s"
   ]
  },
  {
   "cell_type": "code",
   "execution_count": null,
   "metadata": {
    "vscode": {
     "languageId": "r"
    }
   },
   "outputs": [],
   "source": [
    "# SPLIT TRAIN TEST\n",
    "set.seed(6)\n",
    "Final_db$Patient = as.factor(Final_db$Patient)\n",
    "#split data 70%-30% maintining the same proportion of outcome (Clinical benefit)\n",
    "split_data = partition(Final_db, p = 0.7, cat_col = 'Clinical_benefit')\n",
    "train = data.frame(split_data[[1]])\n",
    "test =  data.frame(split_data[[2]])"
   ]
  },
  {
   "cell_type": "code",
   "execution_count": null,
   "metadata": {
    "vscode": {
     "languageId": "r"
    }
   },
   "outputs": [],
   "source": [
    "library(glmnet)\n",
    "set.seed(6)\n",
    "\n",
    "mdlY1 <-as.factor(as.matrix(train[\"Clinical_benefit\"]))\n",
    "mdlX1 <- as.matrix(data.frame(train[num_var]))\n",
    "\n",
    "# implement cross validation to get the lamda of the most parsimonious model\n",
    "cv <- cv.glmnet(mdlX1, mdlY1, family = \"binomial\", nfold = 3 , type.measure = \"auc\", parallel = TRUE, alpha = 1)\n",
    "\n",
    "# train the LASSO model for the selected lambda\n",
    "md1 <- glmnet(mdlX1,mdlY1, family = \"binomial\", lambda =cv$lambda.1se ,alpha = 1 )\n",
    "\n",
    "#Get the selected features with non-zero coefficients\n",
    "myCoefs1 <- coef(md1)\n",
    "vars_nonzero1 = myCoefs1@Dimnames[[1]][ which(myCoefs1 != 0 ) ][-1] #intercept included\n"
   ]
  },
  {
   "cell_type": "code",
   "execution_count": null,
   "metadata": {
    "vscode": {
     "languageId": "r"
    }
   },
   "outputs": [],
   "source": [
    "#because LASSO select too many features we implement mRMR\n",
    "#mRMR\n",
    "train$Clinical_benefit = as.ordered(train$Clinical_benefit)\n",
    "sel_vars= c(vars_nonzero1,'Clinical_benefit')\n",
    "feature_data <- mRMR.data(data = train[c(sel_vars)])\n",
    "filter <- mRMR.classic(data = feature_data, target_indices = c(length(sel_vars)),\n",
    "                       feature_count = 6) #num of features defined until the model multicolinearity was VIF~1\n",
    "\n",
    "mrmr_data = colnames(train[c(sel_vars)][filter@filters[[1]][,1]])\n",
    "\n",
    "train$Clinical_benefit=factor(train$Clinical_benefit, ordered = F)\n",
    "model_rad <- glm(Clinical_benefit ~ .,family=binomial(link='logit'),data=train[c(mrmr_data,'Clinical_benefit')])\n",
    "library(car)\n",
    "vif(model_rad)\n",
    "\n"
   ]
  },
  {
   "cell_type": "code",
   "execution_count": null,
   "metadata": {
    "vscode": {
     "languageId": "r"
    }
   },
   "outputs": [],
   "source": [
    "#visualize results\n",
    "R_1= pROC::roc(response = train$Clinical_benefit, predictor = predict(model_rad,train,type = 'response'),direction='<', ci=TRUE)\n",
    "R_1\n",
    "#plot(R_1, print.auc = T)\n",
    "\n",
    "R_2= pROC::roc(response = test$Clinical_benefit, predictor = predict(model_rad,test,type = 'response'),direction='<', ci=TRUE)\n",
    "R_2\n",
    "#plot(R_2, add=TRUE, print.auc = T)"
   ]
  },
  {
   "cell_type": "code",
   "execution_count": null,
   "metadata": {
    "vscode": {
     "languageId": "r"
    }
   },
   "outputs": [],
   "source": [
    "coefs_sd = summary(model_rad)\n",
    "CI95_high = coefs_sd$coefficients[,1]+1.96*coefs_sd$coefficients[,2]\n",
    "CI95_low = coefs_sd$coefficients[,1]-1.96*coefs_sd$coefficients[,2]\n",
    "coef = coefs_sd$coefficients[,1]\n",
    "coefs_md = data.frame(names = as.character(names(coef)[-1]),vars = paste(round(coef,2), '[',round(CI95_low,2),'-',round(CI95_high,2),']', sep = '')[-1])\n",
    "coefs_md$names = as.character(coefs_md$names)\n",
    "coefs_md"
   ]
  },
  {
   "cell_type": "code",
   "execution_count": null,
   "metadata": {
    "vscode": {
     "languageId": "r"
    }
   },
   "outputs": [],
   "source": [
    "#check differences between pretreated pts \n",
    "Final_db$RadScore = predict(model_rad, Final_db, type='response')\n",
    "Final_db$Clinical_benefit = factor(Final_db$Clinical_benefit )\n",
    "Final_db$Pretreatment = ifelse(Final_db$PriorTarget_Type_P !='Non-pretreated', 'Pretreated', 'Non-pretreated')\n",
    "boxplot(Final_db$RadScore~Final_db$Clinical_benefit+Final_db$PriorTarget_Type_P, col=rep(unique(as.numeric(Final_db$Clinical_benefit)+1),3),  xlab = 'Pre-treatment', ylab='RadScore',xaxt = 'n')\n",
    "axis(1,at=seq(2,6,2),labels=c('Everolimus', 'Non-pretreated','Sunitinib'),cex.axis=1)"
   ]
  },
  {
   "cell_type": "code",
   "execution_count": null,
   "metadata": {
    "vscode": {
     "languageId": "r"
    }
   },
   "outputs": [],
   "source": [
    "#Check if there are significant differences in pretreated patients\n",
    "library(ggpubr)\n",
    "my_comparisons <- list(c(\"Non-pretreated\", \"Pretreated\"))\n",
    "p <- ggboxplot(Final_db, x = \"Pretreatment\", y = \"RadScore\",\n",
    "               palette = \"jco\", xlab = '',\n",
    "               add = \"jitter\")\n",
    "#  Add p-value\n",
    "#p + stat_compare_means(comparisons = my_comparisons)\n",
    "# Change method\n",
    "p + stat_compare_means(method = \"wilcox.test\", label.y = 1, size = 7)+\n",
    "  stat_compare_means(method = \"wilcox.test\",label = \"p.signif\",comparisons = my_comparisons, bracket.size = 1, hide.ns = F,size = 8)+\n",
    "  theme(axis.text=element_text(size=17),axis.title=element_text(size=20), strip.text=element_text(size=0))"
   ]
  },
  {
   "cell_type": "code",
   "execution_count": null,
   "metadata": {
    "vscode": {
     "languageId": "r"
    }
   },
   "outputs": [],
   "source": [
    "# VALIDATION ####\n",
    "#read data\n",
    "Finalval_db = read.csv('/nfs/rnas/mligero/Github/TALENT_project/data/Talent_Radiomics_validationdb.csv', stringsAsFactors = F)\n",
    "\n",
    "paste('Liver Burden:',median(Finalval_db$total_vol), '[',min(Finalval_db$total_vol), '-',max(Finalval_db$total_vol),']')\n",
    "\n",
    "Finalval_db[num_var] = scale(Finalval_db[num_var])"
   ]
  },
  {
   "cell_type": "code",
   "execution_count": null,
   "metadata": {
    "vscode": {
     "languageId": "r"
    }
   },
   "outputs": [],
   "source": [
    "Finalval_db$Clinical_benefit= factor(Finalval_db$Clinical_benefit)"
   ]
  },
  {
   "cell_type": "code",
   "execution_count": null,
   "metadata": {
    "vscode": {
     "languageId": "r"
    }
   },
   "outputs": [],
   "source": [
    "#LOGISTIC REGRESSION\n",
    "R_3= pROC::roc(response = as.numeric(Finalval_db$Clinical_benefit), predictor = as.numeric(predict(model_rad,Finalval_db, type = \"response\")), direction ='<', ci=TRUE)\n",
    "R_3"
   ]
  },
  {
   "cell_type": "code",
   "execution_count": null,
   "metadata": {
    "vscode": {
     "languageId": "r"
    }
   },
   "outputs": [],
   "source": [
    "#find cutoff for the training model and get SE, SP and others for that cutoff\n",
    "df_cutoff = data.frame(outcome = train$Clinical_benefit, predicted = predict(model_rad,train,type = 'response'))\n",
    "\n",
    "p <- cutpointr(df_cutoff, x = predicted, class =outcome, \n",
    "              method = maximize_metric, metric = youden)\n",
    "p$optimal_cutpoint\n",
    "\n",
    "R_1$auc;R_1$ci;coords(R_1,input = 'threshold', x = p$optimal_cutpoint,\n",
    "                      ret=c( \"accuracy\",\"sensitivity\",\"specificity\", \"npv\" , \"ppv\",\"tp\", \"tn\",\"fp\", \"fn\"),\n",
    "                      transpose = FALSE);roc.area(as.numeric(R_1$response)-1, \n",
    "                                                  R_1$predictor)$p.value\n",
    "R_2$auc;R_2$ci;coords(R_2,input = 'threshold', x =  p$optimal_cutpoint,\n",
    "                      ret=c(\"threshold\",\"accuracy\", \"specificity\", \"sensitivity\", \"npv\" , \"ppv\",\"tp\", \"tn\",\"fp\", \"fn\"),\n",
    "                      transpose = FALSE);roc.area(as.numeric(R_2$response)-1, \n",
    "                                                  R_2$predictor)$p.value\n",
    "R_3$auc;R_3$ci;coords(R_3,input = 'threshold', x =  p$optimal_cutpoint,\n",
    "                      ret=c(\"threshold\",\"accuracy\", \"specificity\", \"sensitivity\", \"npv\" , \"ppv\",\"tp\", \"tn\",\"fp\", \"fn\"),\n",
    "                      transpose = FALSE);roc.area(as.numeric(R_3$response)-1, \n",
    "                                                  R_3$predictor)$p.value\n"
   ]
  },
  {
   "cell_type": "code",
   "execution_count": null,
   "metadata": {
    "vscode": {
     "languageId": "r"
    }
   },
   "outputs": [],
   "source": [
    "# PLOT ROC ####~\n",
    "\n",
    "col_1 = rgb(red =254,green = 154,blue = 1,maxColorValue = 255)\n",
    "col_2 = rgb(red =0,green = 128,blue = 128,maxColorValue = 255)\n",
    "col_3 = rgb(red =128,green = 0,blue = 128,maxColorValue = 255)\n",
    "\n",
    "\n",
    "#ROC curve generate figure\n",
    "#svg(filename=\"PartA_ROCRAD.svg\", width=5, height=5, pointsize=6)\n",
    "par(pty = 's')\n",
    "par(mar=c(5,2.5,6.1,3.5),xpd = F,mgp = c(1, 1,0))\n",
    "plot(R_1, xaxt = 'n', legacy.axes = TRUE, ci=!is.null(R_1$ci),\n",
    "     col = col_1,type='l', xlab = \"\", ylab = \"\",\n",
    "     print.auc = FALSE, print.thres=FALSE, lwd=5,\n",
    "     main= 'Single-phase Radiomics Signature',cex.main = 2,\n",
    "     print.thres.pch=19,print.thres.adj=c(-1.05,0.3),\n",
    "     print.thres.cex=1.3,print.thres.col=\"black\",\n",
    "     add=FALSE,cex.lab = 1.8, cex.axis = 2, ylim = c(0,1.1))\n",
    "\n",
    "legend('bottomright', legend = c(paste('Training: ',format(round(R_1$auc,2),nsmall = 2),'(',format(round(R_1$ci[1],2),nsmall = 2),'-',format(round(R_1$ci[3],2),nsmall = 2),')',sep=''),\n",
    "                                 paste('Validation: ',format(round(R_2$auc,2),nsmall = 2),'(',format(round(R_2$ci[1],2),nsmall = 2),'-',format(round(R_2$ci[3],2),nsmall = 2),')',sep = ''),\n",
    "                                 paste('Test: ',format(round(R_3$auc,2),nsmall = 2),'(',format(round(R_3$ci[1],2),nsmall = 2),'-',format(round(R_3$ci[3],2),nsmall = 2),')',sep = '')),             \n",
    "       lty = c(1,5,3),lwd = c(4,4,1),col=c(col_1,col_2,col_3), xjust = 4, yjust = 1,\n",
    "       title = \"AUC(95% CI)\", pch = c(NA,NA,NA), cex = 1)\n",
    "\n",
    "plot(R_2, xaxt = 'n', legacy.axes = TRUE, ci=!is.null(R_2$ci),\n",
    "     col = col_2, type = 'l',lty=5,lwd=5,\n",
    "     print.auc = FALSE, print.thres=FALSE, print.thres.col=\"black\",\n",
    "     print.thres.pch=19,print.thres.adj=c(1,-0.7),print.thres.cex=1.3,add=TRUE,ylim = c(0,1.1))\n",
    "\n",
    "\n",
    "plot(R_3, xaxt = 'n', legacy.axes = TRUE, ci=!is.null(R_3$ci),\n",
    "     col = col_3, type = 'l',lty=3,lwd=5,\n",
    "     print.auc = FALSE, print.thres=FALSE, print.thres.col=\"black\",\n",
    "     print.thres.pch=19,print.thres.adj=c(1,-0.7),print.thres.cex=1.3,add=TRUE,ylim = c(0,1.1))\n",
    "\n",
    "\n",
    "axis(side = 1,seq(1.0,0.0,-0.2),pos = -0.044,c('0.0','0.2','0.4','0.6','0.8','1.0'),cex.axis = 2)\n",
    "mtext(text = \"1 - Specificity\",side = 1,line = 3.5, cex = 2)\n",
    "\n",
    "mtext(text = \"Sensitivity\",\n",
    "      side = 2, line = 3.5, cex = 2)\n",
    "#dev.off()"
   ]
  },
  {
   "cell_type": "code",
   "execution_count": null,
   "metadata": {
    "vscode": {
     "languageId": "r"
    }
   },
   "outputs": [],
   "source": [
    "Finalval_db$RadScore = predict(model_rad, Finalval_db, type='response')\n",
    "total_db = rbind(Final_db[c('Patient', 'original_firstorder_90Percentile', 'Grado','Ki67', 'RadScore')] , Finalval_db[c('Patient', 'original_firstorder_90Percentile', 'Grado','Ki67','RadScore')])\n",
    "total_db$grade = ifelse(total_db$Grado>=2, 'Grade II-III', 'Grade <II' )\n",
    "total_db$RadScore_d = factor(ifelse(total_db$RadScore>p$optimal_cutpoint, 'HighRADscore', 'LowRADscore'))"
   ]
  },
  {
   "cell_type": "code",
   "execution_count": null,
   "metadata": {
    "vscode": {
     "languageId": "r"
    }
   },
   "outputs": [],
   "source": [
    "#checking for significant differences between grade \n",
    "library(ggpubr)\n",
    "\n",
    "p <- ggboxplot(subset(total_db, !is.na(grade)), x = \"grade\", y = \"original_firstorder_90Percentile\",\n",
    "          color = \"RadScore_d\", palette = \"jco\",\n",
    "          add = \"jitter\")\n",
    "# Change method\n",
    "p + stat_compare_means(comparisons = list(c('Grade <II','Grade II-III')),label = \"p.signif\", label.y = 4, label.x = 1.5) + \n",
    "facet_wrap(~RadScore_d)+ylab('Enhancemnet (90 Percentile)')"
   ]
  },
  {
   "cell_type": "code",
   "execution_count": null,
   "metadata": {
    "vscode": {
     "languageId": "r"
    }
   },
   "outputs": [],
   "source": [
    "train$RADscore = predict(model_rad,train,type = 'response')\n",
    "test$RADscore = predict(model_rad,test,type = 'response')\n",
    "Finalval_db$RADscore = predict(model_rad,Finalval_db,type = 'response')\n",
    "model_clinrad <- glm(Clinical_benefit ~.,family=binomial(link='logit'), \n",
    "                     data=train[c('Clinical_benefit','RADscore','Ki67','Cohort')])\n",
    "summary(model_clinrad)\n",
    "anova(model_clinrad,test=\"Chisq\")\n",
    "coefs_sd = summary(model_clinrad)\n",
    "CI95_high = coefs_sd$coefficients[,1]+1.96*coefs_sd$coefficients[,2]\n",
    "CI95_low = coefs_sd$coefficients[,1]-1.96*coefs_sd$coefficients[,2]\n",
    "coef = coefs_sd$coefficients[,1]\n",
    "coefs_md = data.frame(names = as.character(names(coef)[-1]),vars = paste(round(coef,2), '[',round(CI95_low,2),'-',round(CI95_high,2),']', sep = '')[-1])\n",
    "coefs_md$names = as.character(coefs_md$names)"
   ]
  },
  {
   "cell_type": "code",
   "execution_count": null,
   "metadata": {
    "vscode": {
     "languageId": "r"
    }
   },
   "outputs": [],
   "source": [
    "par(pty = 's')\n",
    "par(mar=c(5,2.5,6.1,3.5),xpd = F,mgp = c(1, 1,0))\n",
    "R_3= pROC::roc(response = train$Clinical_benefit, predictor = predict(model_clinrad,train,type = 'response'), ci=TRUE)\n",
    "R_3\n",
    "\n",
    "R_4= pROC::roc(response = test$Clinical_benefit, predictor = predict(model_clinrad,test,type = 'response'), ci=TRUE)\n",
    "R_4\n",
    "\n",
    "R_5= pROC::roc(response = Finalval_db$Clinical_benefit, predictor = predict(model_clinrad,Finalval_db,type = 'response'), ci=TRUE)\n",
    "R_5\n"
   ]
  },
  {
   "cell_type": "code",
   "execution_count": null,
   "metadata": {
    "vscode": {
     "languageId": "r"
    }
   },
   "outputs": [],
   "source": [
    "#find cutoff of the combined clinical and radiomics model\n",
    "df_cutoff = data.frame(outcome = model_clinrad$y, predicted = model_clinrad$fitted.values)\n",
    "\n",
    "p <- cutpointr(df_cutoff, x = predicted, class =outcome, \n",
    "              method = maximize_metric, metric = youden)\n",
    "p$optimal_cutpoint\n",
    "\n",
    "R_3$auc;R_3$ci;coords(R_3,input = 'threshold', x = p$optimal_cutpoint,\n",
    "                      ret=c( \"accuracy\",\"sensitivity\",\"specificity\", \"npv\" , \"ppv\",\"tp\", \"tn\",\"fp\", \"fn\"),\n",
    "                      transpose = FALSE);roc.area(as.numeric(R_3$response)-1,R_3$predictor)$p.value\n",
    "\n",
    "R_4$auc;R_4$ci;coords(R_4,input = 'threshold', x =p$optimal_cutpoint,\n",
    "                      ret=c(\"threshold\", \"accuracy\",\"specificity\", \"sensitivity\", \"tp\", \"tn\",\"fp\", \"fn\"),\n",
    "                      transpose = FALSE);roc.area(as.numeric(R_4$response)-1, \n",
    "                                                  R_4$predictor)$p.value\n",
    "\n",
    "R_5$auc;R_5$ci;coords(R_5,input = 'threshold', x = p$optimal_cutpoint,\n",
    "                      ret=c(\"threshold\",\"accuracy\", \"specificity\", \"sensitivity\", \"tp\", \"tn\",\"fp\", \"fn\"),\n",
    "                      transpose = FALSE);roc.area(as.numeric(R_5$response)-1, \n",
    "                                                  R_5$predictor)$p.value\n",
    "\n",
    "\n",
    "par(pty = 's')\n",
    "col_1 = rgb(red =254,green = 154,blue = 1,maxColorValue = 255)\n",
    "col_2 = rgb(red =0,green = 128,blue = 128,maxColorValue = 255)\n",
    "col_3 = rgb(red =128,green = 0,blue = 128,maxColorValue = 255)"
   ]
  },
  {
   "cell_type": "code",
   "execution_count": null,
   "metadata": {
    "vscode": {
     "languageId": "r"
    }
   },
   "outputs": [],
   "source": [
    "#ROC cruve generate figure for clinical radiomics signature\n",
    "#svg(filename=\"PartA_ROCCLINRAD.svg\", width=5, height=5, pointsize=6)\n",
    "par(pty = 's')\n",
    "par(mar=c(5,2.5,6.1,3.5),xpd = F,mgp = c(1, 1,0))\n",
    "plot(R_3, xaxt = 'n', legacy.axes = TRUE, ci=!is.null(R_3$ci),\n",
    "     col = col_1,type='l', xlab = \"\", ylab = \"\",\n",
    "     print.auc = FALSE, print.thres=FALSE, lwd=5,\n",
    "     main= 'Radiomics-Clinical Signature',cex.main = 2,\n",
    "     print.thres.pch=19,print.thres.adj=c(-1.05,0.3),\n",
    "     print.thres.cex=1.3,print.thres.col=\"black\",\n",
    "     add=FALSE,cex.lab = 1.8, cex.axis = 2, ylim = c(0,1.1))\n",
    "\n",
    "\n",
    "legend('bottomright', legend = c(paste('Training: ',format(round(R_3$auc,2),nsmall = 2),'(',format(round(R_3$ci[1],2),nsmall = 2),'-',format(round(R_3$ci[3],2),nsmall = 2),')',sep=''),\n",
    "                                 paste('Validation: ',format(round(R_4$auc,2),nsmall = 2),'(',format(round(R_4$ci[1],2),nsmall = 2),'-',format(round(R_4$ci[3],2),nsmall = 2),')',sep = ''),\n",
    "                                 paste('Test: ',format(round(R_5$auc,2),nsmall = 2),'(',format(round(R_5$ci[1],2),nsmall = 2),'-',format(round(R_5$ci[3],2),nsmall = 2),')',sep = '')),             \n",
    "       lty = c(1,5,4),lwd = c(4,4,4),col=c(col_1,col_2,col_3), xjust = 3, yjust = 1,\n",
    "       title = \"AUC(95% CI)\", pch = c(NA,NA,NA), cex =1)\n",
    "\n",
    "plot(R_4, xaxt = 'n', legacy.axes = TRUE, ci=!is.null(R_4$ci),\n",
    "     col = col_2, type = 'l',lty=5,lwd=5,\n",
    "     print.auc = FALSE, print.thres=FALSE, print.thres.col=\"black\",\n",
    "     print.thres.pch=19,print.thres.adj=c(1,-0.7),print.thres.cex=1.3,add=TRUE,ylim = c(0,1.1))\n",
    "\n",
    "plot(R_5, xaxt = 'n', legacy.axes = TRUE, ci=!is.null(R_5$ci),\n",
    "     col = col_3, type = 'l',lty=4,lwd=5,\n",
    "     print.auc = FALSE, print.thres=FALSE, print.thres.col=\"black\",\n",
    "     print.thres.pch=19,print.thres.adj=c(1,-0.7),print.thres.cex=1.3,add=TRUE,ylim = c(0,1.1))\n",
    "\n",
    "\n",
    "axis(side = 1,seq(1.0,0.0,-0.2),pos = -0.044,c('0.0','0.2','0.4','0.6','0.8','1.0'),cex.axis = 2)\n",
    "mtext(text = \"1 - Specificity\",side = 1,line = 3.5, cex = 2)\n",
    "\n",
    "mtext(text = \"Sensitivity\",\n",
    "      side = 2, line = 3.5, cex = 2)\n",
    "#dev.off()"
   ]
  },
  {
   "cell_type": "code",
   "execution_count": null,
   "metadata": {
    "vscode": {
     "languageId": "r"
    }
   },
   "outputs": [],
   "source": [
    "#dis function gets the HR with confidence intervals, pvalue, AIC and C-index of the unimodal models\n",
    "get_hr = function(mdc){\n",
    "  HR = exp(coef(mdc))\n",
    "  HRCIlow = exp(confint(mdc))[,1]\n",
    "  HRCIhigh = exp(confint(mdc))[,2]\n",
    "  p_val_model = summary(mdc)$coefficients[,5]\n",
    "  aic= AIC(mdc)\n",
    "  c_idx= mdc$concordance[6]\n",
    "  c_idx_low= mdc$concordance[6] - 1.96*mdc$concordance[7]\n",
    "  c_idx_upp= mdc$concordance[6] +1.96*mdc$concordance[7]\n",
    "  temp = cox.zph(mdc)\n",
    "  df = data.frame(paste(round(HR,2),'[', round(HRCIlow,2),'-',round(HRCIhigh,2),']', sep=''),\n",
    "                  round(p_val_model,3), round(aic,2),\n",
    "                  paste(round(c_idx,2),'[',round(c_idx_low,2),'-',round(c_idx_upp,2),']',sep =''),\n",
    "                  p_val = temp$table[c(1:length(temp$table[,1])-1),3])\n",
    "  colnames(df) = c('HR', 'pval', 'AIC', 'Cindex', 'pvaldependence')\n",
    "  df\n",
    "}"
   ]
  },
  {
   "cell_type": "code",
   "execution_count": null,
   "metadata": {
    "vscode": {
     "languageId": "r"
    }
   },
   "outputs": [],
   "source": [
    "#generate KM figure for radiomics score\n",
    "library(survminer)\n",
    "#svg(filename=\"PartB_KMRAD.svg\", width=7, height=5, pointsize=6)\n",
    "Final_db$RADscore = predict(model_rad, Final_db, type='response')\n",
    "Final_db$RadScore_d = ifelse(Final_db$RADscore>0.49, 1,0) #0.49 is the optimal cutoff\n",
    "fit3 = survfit(Surv(Time_PFS,Event_PFS) ~ RadScore_d, data = Final_db)\n",
    "ggsurvplot(fit3, censor.shape=\"|\", censor.size = 4, palette = c(col_1, col_3),\n",
    "                         ggtheme = theme_bw(),\n",
    "                         xlim = c(0,50), title = 'Kaplan-Meier for predicting PFS',\n",
    "                         font.title = c(17,'plain', 'black'), \n",
    "                         font.caption = c(10,'plain', 'black'), \n",
    "                         font.x = c(17,'plain', 'black'),\n",
    "                         font.y = c(20,'plain', 'black'),\n",
    "                         font.tickslab  = c(13,'plain', 'black'), \n",
    "                         font.legend  = c(14,'plain', 'black'),\n",
    "                         legend = 'top',\n",
    "                         legend.size = 2,\n",
    "                         legend.title = element_blank(),\n",
    "                         legend.labs = c(\"Low RAD-Score\",\"High RAD-Score\"),\n",
    "                         xlab = 'Time (months)', size = 1,  \n",
    "                         ylab = 'PFS probability',\n",
    "                         data = Final_db,\n",
    "                         risk.table = F, pval = T)\n",
    "#dev.off()"
   ]
  },
  {
   "cell_type": "code",
   "execution_count": null,
   "metadata": {
    "vscode": {
     "languageId": "r"
    }
   },
   "outputs": [],
   "source": [
    "#generate KM figure for combined clinicalradiomics score\n",
    "library(survminer)\n",
    "#svg(filename=\"PartB_KMCLINRAD.svg\", width=7, height=5, pointsize=6)\n",
    "Final_db$RADscore = predict(model_rad, Final_db, type='response')\n",
    "Final_db$ClinRADscore = predict(model_clinrad, Final_db, type='response')\n",
    "Final_db$RadScore_d = ifelse(Final_db$ClinRADscore>0.36, 1,0) #for the optimal cutoff\n",
    "fit3 = survfit(Surv(Time_PFS,Event_PFS) ~ RadScore_d, data = Final_db)\n",
    "ggsurvplot(fit3, censor.shape=\"|\", censor.size = 4, palette = c(col_1, col_3),\n",
    "                         ggtheme = theme_bw(),\n",
    "                         xlim = c(0,50), title = 'Kaplan-Meier for predicting PFS',\n",
    "                         font.title = c(17,'plain', 'black'), \n",
    "                         font.caption = c(10,'plain', 'black'), \n",
    "                         font.x = c(17,'plain', 'black'),\n",
    "                         font.y = c(20,'plain', 'black'),\n",
    "                         font.tickslab  = c(13,'plain', 'black'), \n",
    "                         font.legend  = c(14,'plain', 'black'),\n",
    "                         legend = 'top',\n",
    "                         legend.size = 2,\n",
    "                         legend.title = element_blank(),\n",
    "                         legend.labs = c(\"Low RADClincal-Score\",\"High RADClincal-Score\"),\n",
    "                         xlab = 'Time (months)', size = 1,  \n",
    "                         ylab = 'PFS probability',\n",
    "                         data = Final_db,\n",
    "                         risk.table = F, pval = T)\n",
    "#dev.off()"
   ]
  },
  {
   "cell_type": "code",
   "execution_count": null,
   "metadata": {
    "vscode": {
     "languageId": "r"
    }
   },
   "outputs": [],
   "source": [
    "Final_db$Tumor_Burden = factor(Final_db$Tumor_Burden )\n",
    "Final_db$Grado = factor(Final_db$Grado )"
   ]
  },
  {
   "cell_type": "code",
   "execution_count": null,
   "metadata": {
    "vscode": {
     "languageId": "r"
    }
   },
   "outputs": [],
   "source": [
    "form = as.formula(paste('Surv(Time_PFS, Event_PFS) ~ Tumor_Burden'))\n",
    "coxmd = coxph(form, Final_db)\n",
    "summary(coxmd)"
   ]
  },
  {
   "cell_type": "code",
   "execution_count": null,
   "metadata": {
    "vscode": {
     "languageId": "r"
    }
   },
   "outputs": [],
   "source": [
    "# 8. cox univariate ----\n",
    "clin_params = c('RADscore','ClinRADscore','Ki67','Cohort', 'Grado')\n",
    "\n",
    "HR_uni = list()\n",
    "for (i in clin_params){\n",
    "  form = as.formula(paste('Surv(Time_PFS, Event_PFS) ~ ' , i,'', sep = ''))\n",
    "  coxmd = coxph(form, Final_db)\n",
    "  summary(coxmd)\n",
    "  HR_uni = rbind(HR_uni,get_hr(coxmd))\n",
    "}\n",
    "rownames(HR_uni) = clin_params\n",
    "HR_uni"
   ]
  },
  {
   "cell_type": "code",
   "execution_count": null,
   "metadata": {
    "vscode": {
     "languageId": "r"
    }
   },
   "outputs": [],
   "source": [
    "Final_dbrad = Final_db"
   ]
  },
  {
   "cell_type": "markdown",
   "metadata": {},
   "source": [
    "## CORRELATION WITH CLINICAL FACTORS"
   ]
  },
  {
   "cell_type": "code",
   "execution_count": null,
   "metadata": {
    "vscode": {
     "languageId": "r"
    }
   },
   "outputs": [],
   "source": [
    "blood_db = read.csv('/nfs/rnas/mligero/Github/TALENT_project/data/biomarcadores_TALENT.csv', stringsAsFactors = FALSE)\n",
    "blood_db$Patient = ifelse(blood_db$Patient<1000, as.character(paste(0, blood_db$Patient, sep = '')), as.character(blood_db$Patient)) # Convert Pat_ID to character (not numerical)\n",
    "table(blood_db$Patient %in% Final_dbrad$Patient)\n",
    "Final_db=inner_join(Final_dbrad[c('Patient', 'acquisition', 'RadScore', 'Time_PFS',\"original_firstorder_90Percentile\",\n",
    "                             \"original_shape_Sphericity\",\"Clinical_benefit\")], \n",
    "                    blood_db, by='Patient')\n",
    "Final_db$Patient = paste('p', Final_db$Patient, sep='')"
   ]
  },
  {
   "cell_type": "code",
   "execution_count": null,
   "metadata": {
    "vscode": {
     "languageId": "r"
    }
   },
   "outputs": [],
   "source": [
    "Final_db$VEGFR = factor(ifelse(Final_db$VEGF.R2.<median(Final_db$VEGF.R2.),\"low\",\"high\"))\n",
    "Final_db$ANG = factor(ifelse(Final_db$ANG.2<median(Final_db$ANG.2),\"low\",\"high\"))\n",
    "# Define different cohorts for pretreatment\n",
    "suni_subset= subset(Final_db, PriorTarget_Type_P =='Sunitinib')\n",
    "everolimus_subset = subset(Final_db, PriorTarget_Type_P =='Everolimus')\n",
    "nopre_db = subset(Final_db, PriorTarget_Type_P =='Non-pretreated')\n",
    "noSuni = subset(Final_db, PriorTarget_Type_P!='Sunitinib')\n",
    "Final_db$Pre_treatment = ifelse(Final_db$PriorTarget_Type_P !='Non-pretreated', 'Pre-treated', 'Non-pretreated')"
   ]
  },
  {
   "cell_type": "code",
   "execution_count": null,
   "metadata": {
    "vscode": {
     "languageId": "r"
    }
   },
   "outputs": [],
   "source": [
    "boxplot(Final_db$VEGF.R2.~Final_db$Clinical_benefit+Final_db$Pre_treatment, col=as.numeric(as.factor(Final_db$Clinical_benefit))+1,  xlab = 'Pre-treatment', ylab='VEGFR1',xaxt = 'n')\n",
    "axis(1,at=seq(1.5,3.5,2),labels=c('Non-pretreated','Pre-treated'),cex.axis=1)"
   ]
  },
  {
   "cell_type": "code",
   "execution_count": null,
   "metadata": {
    "vscode": {
     "languageId": "r"
    }
   },
   "outputs": [],
   "source": [
    "# Check associations between vascularization factors and response\n",
    "library(ggpubr)\n",
    "p <- ggboxplot(nopre_db, x = \"Clinical_benefit\", y = \"VEGF.R2.\",\n",
    "          color = \"Clinical_benefit\", palette = \"jco\",\n",
    "          add = \"jitter\")\n",
    "# Change method\n",
    "p + stat_compare_means(comparisons = list(c('yes','no')),label = \"p.value\", label.y = 28000, label.x = 1.5)+ylab('VEGFR')\n",
    "p <- ggboxplot(Final_db, x = \"Clinical_benefit\", y = \"VEGF.R2.\",\n",
    "          color = \"Clinical_benefit\", palette = \"jco\",\n",
    "          add = \"jitter\")\n",
    "# Change method\n",
    "p + stat_compare_means(comparisons = list(c('yes','no','yes','no')),label = \"p.value\", label.y = 28000, label.x = 1.5) + facet_wrap(~Pre_treatment)+ylab('VEGFR')\n",
    "\n",
    "#------------------------------\n",
    "ggplot(data = Final_db,\n",
    "   mapping = aes(x = Clinical_benefit,\n",
    "                 y = VEGF.R2.)) +\n",
    "  geom_boxplot(aes(fill = Clinical_benefit))+\n",
    "  stat_compare_means(comparisons = list(c('yes','no')),\n",
    "                     label = 'p.value',\n",
    "                     label.x = 1.25,\n",
    "                     label.y = 28000) + facet_wrap(~Pre_treatment)"
   ]
  },
  {
   "cell_type": "code",
   "execution_count": null,
   "metadata": {
    "vscode": {
     "languageId": "r"
    }
   },
   "outputs": [],
   "source": [
    "library(ggpubr)\n",
    "my_comparisons <- list(c(\"low\", \"high\"))\n",
    "p <- ggboxplot(Final_db, x = \"VEGFR\", y = \"RadScore\",\n",
    "               palette = \"jco\",\n",
    "               add = \"jitter\")\n",
    "#  Add p-value\n",
    "#p + stat_compare_means(comparisons = my_comparisons)\n",
    "# Change method\n",
    "p + stat_compare_means(method = \"wilcox.test\", label.y = 1,size = 7)+\n",
    "  stat_compare_means(method = \"wilcox.test\",label = \"p.signif\",comparisons = my_comparisons, bracket.size = 1, hide.ns = T,size = 8)+\n",
    "  theme(axis.text=element_text(size=17),axis.title=element_text(size=20), strip.text=element_text(size=0))"
   ]
  },
  {
   "cell_type": "code",
   "execution_count": null,
   "metadata": {
    "vscode": {
     "languageId": "r"
    }
   },
   "outputs": [],
   "source": [
    "library(ComplexHeatmap)\n",
    "data = as.matrix(Final_db[c('ANG.2','VEGF.R2.')])\n",
    "mat = as.matrix(scale(data)) #numerical features from database\n",
    "Heatmap(mat, name = \"SignExp\",clustering_method_columns=\"complete\",  cluster_columns = FALSE, row_km=2)"
   ]
  },
  {
   "cell_type": "code",
   "execution_count": null,
   "metadata": {
    "vscode": {
     "languageId": "r"
    }
   },
   "outputs": [],
   "source": [
    "hc = hclust(dist(mat), method = \"complete\", members = NULL)\n",
    "Final_db$hc <- cutree(hc, k =2)\n",
    "\n",
    "\n",
    "#wilcox.test(Final_db$RadScore~Final_db$hc)\n",
    "library(ggpubr)\n",
    "\n",
    "my_comparisons <- list(c(\"ClusterA\", \"ClusterB\"))\n",
    "p <- ggboxplot(Final_db, x = \"hc\", y = \"RadScore\",\n",
    "               palette = \"jco\",\n",
    "               add = \"jitter\")\n",
    "#  Add p-value\n",
    "p + stat_compare_means(comparisons = my_comparisons)\n",
    "# Change method\n",
    "p + stat_compare_means(method = \"wilcox.test\", label.y = 1,size = 7)+\n",
    "  stat_compare_means(method = \"wilcox.test\",label = \"p.signif\",comparisons = my_comparisons, bracket.size = 1, hide.ns = T,size = 8)+\n",
    "  theme(axis.text=element_text(size=17),axis.title=element_text(size=20), strip.text=element_text(size=0))"
   ]
  },
  {
   "cell_type": "code",
   "execution_count": null,
   "metadata": {
    "vscode": {
     "languageId": "r"
    }
   },
   "outputs": [],
   "source": [
    "\n",
    "Final_db%>%group_by(hc)%>%\n",
    "  dplyr::summarize(n = n(),\n",
    "            median = median(VEGF.R2.),\n",
    "            min = quantile(VEGF.R2.,c(0.25)),\n",
    "            max = quantile(VEGF.R2.,c(0.75)))\n",
    "\n",
    "\n",
    "Final_db%>%group_by(hc)%>%\n",
    "  dplyr::summarize(n = n(),\n",
    "            median = median(ANG.2),\n",
    "            min = quantile(ANG.2,c(0.25)),\n",
    "            max = quantile(ANG.2,c(0.75)))\n",
    "           \n",
    "Final_db%>%group_by(hc)%>%\n",
    "  dplyr::summarize(n = n(),\n",
    "            median = median(RadScore),\n",
    "            min = quantile(RadScore,c(0.25)),\n",
    "            max = quantile(RadScore,c(0.75)))"
   ]
  },
  {
   "cell_type": "code",
   "execution_count": null,
   "metadata": {
    "vscode": {
     "languageId": "r"
    }
   },
   "outputs": [],
   "source": [
    "library(ComplexHeatmap)\n",
    "library(circlize)\n",
    "names(Final_db)[c(10,15)] = c('ANG-2', 'VEGF-R2')\n",
    "data = as.matrix(Final_db[c('ANG-2', 'VEGF-R2')])\n",
    "mat = as.matrix(scale(data))\n",
    "hc = hclust(dist(mat), method = \"complete\", members = NULL)\n",
    "subgroup <- cutree(hc, k =2)\n",
    "rad = as.matrix(Final_db$RadScore)\n",
    "subgroup <- ifelse(subgroup ==1, 'ClusterA', 'ClusterB')\n",
    "RAD_col = colorRamp2(c(0, 0.75), c(\"red\",\"green\")) \n",
    "col = list(Cluster = c(\"ClusterA\" = \"green\", \"ClusterB\" = \"red\"),RAD = RAD_col)\n",
    "ha = rowAnnotation(Cluster = subgroup, RAD = rad, col=col)\n",
    "col_rnorm = colorRamp2(c(-3, 0, 3), c(\"red\", \"white\", \"blue\"))\n",
    "\n",
    "\n",
    "panel_fun = function(index, nm) {\n",
    "    pushViewport(viewport(xscale = c(0,1), yscale = c(0, 2))) \n",
    "    grid.xaxis(gp = gpar(fontsize = 8), main =TRUE)\n",
    "    if (nm == 'ClusterA'){\n",
    "        grid.boxplot(rad[index, drop = FALSE], pos = 1, direction = \"horizontal\", gp = gpar(fill = \"green\", xaxt = 'n'))}\n",
    "    if (nm == 'ClusterB'){\n",
    "        grid.boxplot(rad[index, ], pos = 1, direction = \"horizontal\", gp = gpar(fill = \"red\", yaxis = 'RADscore'))\n",
    "    }\n",
    "    popViewport()\n",
    "}\n",
    "\n",
    "anno = anno_link(align_to = subgroup, which = \"row\", panel_fun = panel_fun, \n",
    "    size = unit(2, \"cm\"), gap = unit(-5, \"cm\"), width = unit(7, \"cm\"))\n",
    "#svg(filename=\"Heatmap.svg\", width=, height=5, pointsize=12)    \n",
    "Heatmap(mat, name = \" \", cluster_columns = FALSE, left_annotation  = ha, right_annotation = rowAnnotation(RAD = anno), row_split = subgroup)"
   ]
  }
 ],
 "metadata": {
  "kernelspec": {
   "display_name": "R",
   "language": "R",
   "name": "ir"
  },
  "language_info": {
   "codemirror_mode": "r",
   "file_extension": ".r",
   "mimetype": "text/x-r-source",
   "name": "R",
   "pygments_lexer": "r",
   "version": "4.1.0"
  },
  "orig_nbformat": 4,
  "vscode": {
   "interpreter": {
    "hash": "916dbcbb3f70747c44a77c7bcd40155683ae19c65e1c03b4aa3499c5328201f1"
   }
  }
 },
 "nbformat": 4,
 "nbformat_minor": 2
}
